{
 "metadata": {
  "kernelspec": {
   "display_name": "Streamlit Notebook",
   "name": "streamlit"
  },
  "lastEditStatus": {
   "notebookId": "fria4djqrnolaeaqkh4b",
   "authorId": "241792482051",
   "authorName": "KADAMS",
   "authorEmail": "kim.adams@snowflake.com",
   "sessionId": "8045f4c4-e72f-403d-a7a0-f3501ca5b607",
   "lastEditTime": 1742308873480
  }
 },
 "nbformat_minor": 5,
 "nbformat": 4,
 "cells": [
  {
   "cell_type": "markdown",
   "id": "0c420a74-b142-477d-997d-8aa16b23344b",
   "metadata": {
    "name": "Intro",
    "collapsed": false
   },
   "source": "# OTI MONITORING SET UP - STEP 2 - CENTRALIZING DATA: SAME REGION  \n - SOURCE ACCOUNT IN THE SAME REGION AS THE TARGET ACCOUNT\n\n METHOD: DIRECT DATA SHARE"
  },
  {
   "cell_type": "markdown",
   "id": "b168c9e5-ea29-4e8b-bc6f-857125ded5e0",
   "metadata": {
    "name": "CREATE_SHARE_FROM_SNOWFLAKE_ARCHIVE_DB",
    "collapsed": false
   },
   "source": "### IN THE SOURCE ACCOUNT, CREATE A SHARE CONTAINING ALL THE OBJECTS IN THE SNOWFLAKE_ARCHIVE.CONTROLS SCHEMA \n\n1. For source accounts in the same reion as the target account execute the SHARE_ALL_SCHEMA_OBJECTS stored procedure. \n2. Validate the creation of the share with the SHOW SHARES IN ACCOUNT command\n3. Validate objects granted to the share"
  },
  {
   "cell_type": "code",
   "id": "ebfdd146-928d-4391-b88b-957603c001fd",
   "metadata": {
    "language": "sql",
    "name": "SOURCE_EXECUTE_CREATE_SHARE_SP",
    "collapsed": false
   },
   "outputs": [],
   "source": "set WH_NAME = 'TASTY_BI_WH';\n\n--set context \nUSE ROLE ACCOUNT_MONITOR_OTI;\nUSE WAREHOUSE IDENTIFIER($WH_NAME);\nUSE DATABASE SNOWFLAKE_ARCHIVE;\nUSE SCHEMA CONTROLS;\n\n--***********  if account is in the same region as the TARGET ACCOUNT -- CREATE SHARE****************************\ncall SNOWFLAKE_ARCHIVE.CONTROLS.SHARE_ALL_SCHEMA_OBJECTS ('SNOWFLAKE_ARCHIVE','CONTROLS','MONITORING_SHARE_' || current_account_name() );",
   "execution_count": null
  },
  {
   "cell_type": "code",
   "id": "8a398c89-a30c-4806-9e11-f136417d78b4",
   "metadata": {
    "language": "sql",
    "name": "SOURCE_VALIDATE_SHARE_CREATION",
    "collapsed": false
   },
   "outputs": [],
   "source": "--validate that share was created\nshow shares in account;",
   "execution_count": null
  },
  {
   "cell_type": "code",
   "id": "4c63c5eb-3ce2-4396-935e-dd5de69edf35",
   "metadata": {
    "language": "sql",
    "name": "SOURCE_VALIDATE_SHARE_GRANTS",
    "collapsed": false
   },
   "outputs": [],
   "source": "--validate that the share has privileges on the tables and views from the SNOWFLAKE_ARCHIVE.CONTROLS schema\nset obs = 'MONITORING_SHARE_' || current_account_name();\nshow grants to share identifier($obs);",
   "execution_count": null
  },
  {
   "cell_type": "markdown",
   "id": "556236d2-ec3d-4691-8781-423e1476fefd",
   "metadata": {
    "name": "SHARE_MONITORING_SHARE_WITH_TARGET_ACCT",
    "collapsed": false
   },
   "source": "### IN THE SOURCE ACCOUNT, SHARE THE NEWLY CREATE SHARE WITH THE TARGET ACCOUNT\n\nAfter validating the share and objects add the taarget account to the share.\n\nSupply the approariate account in the script below."
  },
  {
   "cell_type": "code",
   "id": "91dfd93f-7109-4bef-9561-31973ea90e22",
   "metadata": {
    "language": "sql",
    "name": "SOURCE_ADD_TARGET_ACCOUNT_TO_SHARE"
   },
   "outputs": [],
   "source": "-- SHARE OUTBOUND SHARE WITH THE TARGET ACCOUNT\nALTER SHARE IDENTIFIER($obs) add ACCOUNTS=<TARGET ACCOUNT LOCATOR>;  --UPDATE WITH TARGET ACCOUNT LOCATOR ",
   "execution_count": null
  },
  {
   "cell_type": "markdown",
   "id": "32f93c3e-c071-4a6b-92c7-86b3bd5d78e8",
   "metadata": {
    "name": "CREATE_DB_IN_TARGET_ACCOUNT",
    "collapsed": false
   },
   "source": "### IN THE TARGET ACCOUNT, CREATE A DATABASE FROM THE INBOUND SHARE\n\n**In the TARGET ACCOUNT** create a database from teh sahe\n\n- Supply the database name in line 4 (Recommend that same name as the share name that icludes the account it was shared from)\n- Supply the Account and Share Name on line 4\n- Supply the database name on line 6\n"
  },
  {
   "cell_type": "code",
   "id": "a2ea3bc6-f5be-4208-9619-dc4ac088a9cd",
   "metadata": {
    "language": "sql",
    "name": "TARGET_CREATE_DATABASE_FROM_SHARE"
   },
   "outputs": [],
   "source": "--***IN THE TARGET ACCOUNT\nUSE ROLE ACCOUNTADMIN;\n-- CREATE SHARE FROM INBOUND SHARE\nCREATE DATABASE <database_name> FROM SHARE <SOURCE_ACCOUNT_LOCATOR>.<SOURCE_ACCOUNT_SHARE_NAME>;\n--TEST SELECTING FROM SHARED OBJECTS\nselect * from <DATABASE_NAME>.TRUST_CENTER.FINDINGS;\n--***END -- IN THE TARGET ACCOUNT\n",
   "execution_count": null
  }
 ]
}