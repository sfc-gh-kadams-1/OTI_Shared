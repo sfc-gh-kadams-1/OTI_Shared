{
 "metadata": {
  "kernelspec": {
   "display_name": "Streamlit Notebook",
   "name": "streamlit"
  },
  "lastEditStatus": {
   "notebookId": "p3jzlt2c537pul5q2txd",
   "authorId": "241792482051",
   "authorName": "KADAMS",
   "authorEmail": "kim.adams@snowflake.com",
   "sessionId": "af9a026c-d86f-4772-89e2-5cc9636d35d5",
   "lastEditTime": 1738165810723
  }
 },
 "nbformat_minor": 5,
 "nbformat": 4,
 "cells": [
  {
   "cell_type": "markdown",
   "id": "0c420a74-b142-477d-997d-8aa16b23344b",
   "metadata": {
    "name": "cell1",
    "collapsed": false
   },
   "source": "# OTI MONITORING SET UP - STEP 2 - CENTRALIZING DATA IN A DIFFERENT REGION  \n - SOURCE ACCOUNT IN A DIFFERENT REGION FROM THE TARGET ACCOUNT\n\n METHOD: REPLICATION\n \nBecause we can't share across regions without replicating to an account in that region.  In this case we're replicating it directly to the target account. "
  },
  {
   "cell_type": "markdown",
   "id": "75400fe9-c44c-4812-b8bc-b3697206a395",
   "metadata": {
    "name": "ENABLE_REPLICATION",
    "collapsed": false
   },
   "source": "## Enable Replication for Source Accounts in a Different Region\n**In an account with the orgadmin role enabled**, eneable replication for each source account that is in a different region than the  target account. "
  },
  {
   "cell_type": "code",
   "id": "cda3738d-ded5-490f-8c3e-fe69eaa6ad41",
   "metadata": {
    "language": "sql",
    "name": "ORG_ENABLED_REPLICATION"
   },
   "outputs": [],
   "source": "--In an ORG ADMIN enabled account - \n-- Assume the ORGADMIN role\nUSE ROLE ORGADMIN;\n-- View the list of the accounts\nSHOW ORGANIZATION ACCOUNTS;\n-- Enable replication for each account that is in a different region than the OTI Organization account (TARGET ACCOUNT) that you will use form monitoring the accounts\nSELECT SYSTEM$GLOBAL_ACCOUNT_SET_PARAMETER('<account1_locator>', 'ENABLE_ACCOUNT_DATABASE_REPLICATION', 'true');",
   "execution_count": null
  },
  {
   "cell_type": "markdown",
   "id": "a90d8fb2-ab95-4435-982e-a6fbfb8c4cb0",
   "metadata": {
    "name": "cell2",
    "collapsed": false
   },
   "source": "### IN THE SOURCE ACCOUNT, CREATION A REPLICATION GROUP\n\nCreate a replication group for replicating the objects to the Target Account \n\nIn the script below\n- Supply an replication group name on line 4\n    - Must be unique accross all accounts, recommend including the current account name\n- Supply the target organization on line 8\n- Change the schedule, if desired, on line 9"
  },
  {
   "cell_type": "code",
   "id": "9c666746-1f2c-44c4-960c-9afec5a2f2b1",
   "metadata": {
    "language": "sql",
    "name": "SOURCE_CREATE_REPLICATION_TO_TARGET"
   },
   "outputs": [],
   "source": "--***********  if account is in a different region than the TARGET ACCOUNT -- CREATE REPLICATION GROUP ****************************\nUSE ROLE ACCOUNT_MONITOR_OTI;\nset obs = 'MONITORING_SHARE_' || current_account_name();\n-- Create REPLICATION Group\nCREATE REPLICATION GROUP <replication_grou_name>  --unique, recommend including current_account\nIGNORE EDITION CHECK\nOBJECT_TYPES = DATABASES \nALLOWED_DATABASES = IDENTIFIER($obs)\nALLOWED_ACCOUNTS = <ORGANIZATION.TARGET_ACCOUNT_NAME>; --CHANGE THIS TO THE TARGET ACCOUNT\nREPLICATION_SCHEDULE = '1440 MINUTE';",
   "execution_count": null
  },
  {
   "cell_type": "markdown",
   "id": "4aaf1713-370c-47bc-87ab-333239be698e",
   "metadata": {
    "name": "cell3",
    "collapsed": false
   },
   "source": ""
  },
  {
   "cell_type": "code",
   "id": "7bccb8e3-b877-48f7-ae01-56dde63d84e6",
   "metadata": {
    "language": "sql",
    "name": "SOURCE_GET_SHARE_NAME"
   },
   "outputs": [],
   "source": "--GET SHARE NAME \nSELECT $obs;",
   "execution_count": null
  },
  {
   "cell_type": "markdown",
   "id": "6e9a9f11-2412-443f-bb73-7c87032f99a1",
   "metadata": {
    "name": "cell4",
    "collapsed": false
   },
   "source": "### IN THE TARGET ACCOUNT, CREATION A REPLICA OF THE REPLICATION GROUP CREATED ABOVE\n\nCreate a replication group for replicating the objects to the Target Account \n\nIn the script below:\n- Supply the replication group name on line 7\n    - Must be unique accross all accounts, recommend including the current account name\n- Supply the organization_name, source_account, AND replication_group_name on line 9\n"
  },
  {
   "cell_type": "code",
   "id": "93737f88-5208-4e50-a4b6-ae9bacb18f68",
   "metadata": {
    "language": "sql",
    "name": "TARGET_CREATE_REPLICATION_GROOUP_FROM_SOURCE"
   },
   "outputs": [],
   "source": "---IN TARGET ACCOUNT\nUSE ROLE ACCOUNTADMIN;\nGRANT CREATE REPLICATION GROUP ON ACCOUNT TO ROLE ACCOUNT_MONITOR;\n\nUSE ROLE ACCOUNT_MONITOR;\n-- Create Secondary Failover Group\nCREATE FAILOVER GROUP <replication_group_name>  --USE THE RESULT OF THE SELECT $obs   STATEMENT RUN IN THE SOURCE ACCOUNT;\nAS REPLICA OF <organization_name>.<source_account>.<replication_group_name>;",
   "execution_count": null
  },
  {
   "cell_type": "markdown",
   "id": "3141e952-0954-491f-b287-b6ddf22eaa5d",
   "metadata": {
    "name": "cell5",
    "collapsed": false
   },
   "source": "### IN THE TARGET ACCOUNT, MANUALLY TRIGGER REPLICATION USING REFRESH\n\nTrigger the inital replication using refresh \n\nIn the script below:\n- Supply the replication group name on line 2\n"
  },
  {
   "cell_type": "code",
   "id": "baeb6930-3ecc-4231-ba51-6c94e26d8ee8",
   "metadata": {
    "language": "sql",
    "name": "TARGET_EXECUTE_REPLICATION"
   },
   "outputs": [],
   "source": "-- Run initial replication manually\nALTER REPLICATION GROUP <replication_group_name> REFRESH;\n\n\n",
   "execution_count": null
  },
  {
   "cell_type": "markdown",
   "id": "928420c2-7b29-4c2a-92ae-f053bb3bb18b",
   "metadata": {
    "name": "cell6",
    "collapsed": false
   },
   "source": "### IN THE TARGET ACCOUNT, VALIDATE THE REFRESH \n\nValidate the refresh by selecting from the TRUST_CENTER.FINDINGS table\n\nIn the script below:\n- Supply the database name on line 2"
  },
  {
   "cell_type": "code",
   "id": "06ad8634-3159-4955-a107-edb739cdfb61",
   "metadata": {
    "language": "sql",
    "name": "TARGET_VALIDATE_REPLICATION"
   },
   "outputs": [],
   "source": "--TEST SELECTING FROM SHARED OBJECTS\nselect * from <DATABASE_NAME>.TRUST_CENTER.FINDINGS;\n--***END -- IN THE TARGET ACCOUNT",
   "execution_count": null
  }
 ]
}