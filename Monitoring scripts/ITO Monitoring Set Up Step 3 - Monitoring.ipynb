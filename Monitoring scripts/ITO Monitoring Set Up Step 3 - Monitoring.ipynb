{
 "metadata": {
  "kernelspec": {
   "display_name": "Streamlit Notebook",
   "name": "streamlit"
  },
  "lastEditStatus": {
   "notebookId": "pwo6ozxwgv4kpz4pnx7u",
   "authorId": "241792482051",
   "authorName": "KADAMS",
   "authorEmail": "kim.adams@snowflake.com",
   "sessionId": "ab75a4c6-6a33-454b-bc35-ad01cac125d2",
   "lastEditTime": 1743079889127
  }
 },
 "nbformat_minor": 5,
 "nbformat": 4,
 "cells": [
  {
   "cell_type": "markdown",
   "id": "14f712ba-c2ea-4e91-bd61-5b3658646bc3",
   "metadata": {
    "name": "Intro",
    "collapsed": false
   },
   "source": "# OTI MONITORING SET UP - STEP 3 - UNIONING DATA & CREATING ALERTS\nRUN IN TARGET ACCOUNT\n\n\n## UNIONIZING DATA\n1. Create a procedure that builds unioned views across all monitoring databases created in step 2 of the setup\n2. Create a task that executes the view on a regular schedule \n3. Execute task\n4. Verify views have been created\n5. Vefify view contains unioned data\n\n## CREATING ALERTS\n1. Create alerting framework prerequisites\n2. Create alerts to log events\n3. Create alerts to email notifications\n4. Designate users to receive alerts\n5. Verify and resume alerts\n"
  },
  {
   "cell_type": "code",
   "id": "bff6021f-6f0d-427a-982e-5c0753303741",
   "metadata": {
    "language": "sql",
    "name": "prerequisites"
   },
   "outputs": [],
   "source": "USE ROLE ACCOUNTADMIN;\ngrant create integration on account to role ACCOUNT_MONITOR_OTI;\n\n\nUSE ROLE ACCOUNT_MONITOR_OTI;\nSET WH_NAME = 'TASTY_BI_WH';  --Warehouse used by the task that creates the unionized views\n\n\nCREATE database IF NOT EXISTS ORG_MONITORING_UTILITIES; \nCREATE SCHEMA IF NOT EXISTS CENTRALIZED_DATA; \n\nUSE database ORG_MONITORING_UTILITIES; \nUSE SCHEMA  CENTRALIZED_DATA; ",
   "execution_count": null
  },
  {
   "cell_type": "markdown",
   "id": "b5a188ba-878c-425e-ab18-6b4fdf7a34a0",
   "metadata": {
    "name": "Create_unionizing_procedure",
    "collapsed": false
   },
   "source": "### Create a procedure that builds unioned views across all monitoring databases created in step 2 of the setup\n"
  },
  {
   "cell_type": "code",
   "id": "ec1de52f-d545-4ff2-9bbb-03a1803aa82d",
   "metadata": {
    "language": "sql",
    "name": "target_create_unionization_procedureocedure"
   },
   "outputs": [],
   "source": "CREATE OR REPLACE PROCEDURE UNION_BUILDER(DB_PREFIX VARCHAR)\nRETURNS ARRAY\nEXECUTE AS CALLER AS\n$$\ndeclare \n--create table cursor for roles\ntable_cursor CURSOR FOR\n        select  object_name from object_list;\nobject_name varchar; \nmsg_array array := array_construct();\nerror_array array:= array_construct();\nbegin\n    show databases  in account;\n    \n    let dblist_stmt VARCHAR(16777216) :=\n    ('create or replace temporary table account_shares as\n    (select * from table(result_scan(last_query_id()))\n    where \"name\" ilike '''||:db_prefix || '%'' \n    --and \"kind\" = ''IMPORTED DATABASE''\n    )');\n    \n    execute immediate (:dblist_stmt) ;\n    \n    let db varchar :=  (select \"name\" from account_shares limit 1);\n    \n    show tables in database identifier(:db);\n    create or replace temporary table object_list as \n    select \"schema_name\"||'.'||\"name\" as object_name\n    from table(result_scan(last_query_id()))\n    WHERE \"schema_name\" <> 'INFORMATION_SCHEMA';\n    \n    show views in database identifier(:db);\n    \n    insert into object_list \n    select \"schema_name\"||'.'||\"name\" as object_name\n    from table(result_scan(last_query_id()))\n    WHERE \"schema_name\" <> 'INFORMATION_SCHEMA';\n    \n    for var in table_cursor DO\n        BEGIN\n            object_name := var.object_name;\n            let view_name varchar := split_part(var.object_name,'.',2);\n            \n            let ddl_stmt VARCHAR(16777216) := \n            (select 'CREATE OR REPLACE VIEW '||:view_NAME  ||' COPY GRANTS  AS '||'\\n' ||rtrim(listagg('SELECT '''||\"name\"|| ''' AS ACCOUNT_DATABASE,\n            * FROM '||\"name\"|| '.' ||:OBJECT_NAME  || ' union all '||'\\n'),'union all '||'\\n')||';'  from  account_shares);\n            \n            execute immediate (:ddl_stmt) ;\n            \n            EXCEPTION  -- log errors\n                                 WHEN statement_error THEN\n                                  LET errm := SQLERRM;\n                                  error_array := array_append(error_array, 'ERROR creating view for ' ||:OBJECT_NAME   ||'.  Error Message: '||  :errm );\n                           \n                                 WHEN expression_error THEN\n                                  LET errm := SQLERRM;\n                                  error_array := array_append(error_array, 'ERROR creating view for ' ||:OBJECT_NAME   ||'.  Error Message: '||  :errm );\n                           \n                           \n                                  WHEN other THEN\n                                  LET errm := SQLERRM;\n                                  error_array := array_append(error_array, 'ERROR creating view for ' ||:OBJECT_NAME   ||'.  Error Message: '||  :errm );\n        END;\n    END FOR;\n    \n    return (ERROR_array );\n\nend ;\n\n$$;;;\n\n\nALTER PROCEDURE UNION_BUILDER(varchar)\nSET COMMENT = \n$$PROCEDURE NAME: UNION_BUILDER() \nPROCEDURE ARGUMENTS: DB_PREFIX  the prefix of the databases of inbound shares that contain account monitoring data \nPROCEDURE PURPOSE: To make a unioned views of tables in the monitoring databases that have been shared or replicated to the target account. \nPROCEDURE DETAILS:  The create a unionized view of each shared table so support alerting and reporting across all accounts at once;\n$$;",
   "execution_count": null
  },
  {
   "cell_type": "markdown",
   "id": "e57349f1-a88d-4562-a7b5-2de1df29f56b",
   "metadata": {
    "name": "Create_task",
    "collapsed": false
   },
   "source": "### Create a task that executes the view on a regular schedule \n\n\nCurrent schedule is once a week.  Only need to run when objects are added to the data collection."
  },
  {
   "cell_type": "code",
   "id": "49904608-ad58-4c09-9142-58c79557dfb2",
   "metadata": {
    "language": "sql",
    "name": "target_create_unionization_task"
   },
   "outputs": [],
   "source": "--create task to execute procedures on a regular schedule \n--set to run every 24 hours at midnight CT but this can be configured \nCREATE OR REPLACE TASK TASK_CREATE_UNION_VIEWS\n  SCHEDULE = 'USING CRON 0 4 * * 1 America/Chicago'  --once a week on mondays\n  WAREHOUSE = $WH_NAME  --CHANGE WAREHOUSE \nAS\nBEGIN\nCALL UNION_BUILDER('MONITORING_SHARE');\nEND;\n\nALTER TASK TASK_CREATE_UNION_VIEWS RESUME ;\n",
   "execution_count": null
  },
  {
   "cell_type": "markdown",
   "id": "632ff2d2-0584-4f98-8220-4a4337fbd8a5",
   "metadata": {
    "name": "Execute_task",
    "collapsed": false
   },
   "source": "### Execute the task\n"
  },
  {
   "cell_type": "code",
   "id": "3eae476c-8426-417b-94b8-2b6db84b2e47",
   "metadata": {
    "language": "sql",
    "name": "Target_execute_task"
   },
   "outputs": [],
   "source": "EXECUTE task TASK_CREATE_UNION_VIEWS;",
   "execution_count": null
  },
  {
   "cell_type": "markdown",
   "id": "1651cb41-1a73-40ed-91d8-cd14285663e0",
   "metadata": {
    "name": "Monitor_task_execution",
    "collapsed": false
   },
   "source": "### Monitor Task Execution"
  },
  {
   "cell_type": "code",
   "id": "3b9e6e1f-00aa-4519-a3fe-9cf9846c069c",
   "metadata": {
    "language": "sql",
    "name": "Target_monitor_task_execution"
   },
   "outputs": [],
   "source": "--validate task status\nSELECT * \nFROM TABLE(information_schema.task_history())\nWHERE database_name = 'ORG_MONITORING_UTILITIES'\nAND NAME = 'TASK_CREATE_UNION_VIEWS'\nORDER BY scheduled_time DESC;",
   "execution_count": null
  },
  {
   "cell_type": "markdown",
   "id": "1d4c1521-f6b4-4460-a2bc-4c50dc80cd26",
   "metadata": {
    "name": "Verify_views_created",
    "collapsed": false
   },
   "source": "###  Verify views have been created"
  },
  {
   "cell_type": "code",
   "id": "f43cc6a5-965d-4998-bd90-f0143b232abd",
   "metadata": {
    "language": "sql",
    "name": "Target_validate_view_creation"
   },
   "outputs": [],
   "source": "SHOW VIEWS IN SCHEMA;",
   "execution_count": null
  },
  {
   "cell_type": "markdown",
   "id": "09c5c448-dfdf-470c-914d-b14774959562",
   "metadata": {
    "name": "Verify_unioned_data",
    "collapsed": false
   },
   "source": "### Vefify view contains unioned data"
  },
  {
   "cell_type": "code",
   "id": "6493e022-803e-4919-af53-4010479a7cad",
   "metadata": {
    "language": "sql",
    "name": "Target_verify_unioned_data"
   },
   "outputs": [],
   "source": "SELECT * FROM  CENTRALIZED_DATA.TRUST_CENTER_SCANNER_AT_RISK_COUNT;",
   "execution_count": null
  },
  {
   "cell_type": "markdown",
   "id": "baea1d76-6262-49cc-b396-09de383ac55d",
   "metadata": {
    "name": "T_arget_create_alerting_framework",
    "collapsed": false
   },
   "source": "# CREATE ALERTING FRAMEWORK"
  },
  {
   "cell_type": "markdown",
   "id": "ee4bc4c4-bb15-4123-8468-e760b60ecc8e",
   "metadata": {
    "name": "Alerting_prerequisites",
    "collapsed": false
   },
   "source": "## Alerting Prerequisites\n\n- Notification Integration\n- alert_event_log table\n- event_recipients table\n- alert_email_log table"
  },
  {
   "cell_type": "code",
   "id": "d93941f8-a9b4-42ed-9faa-8d5f62ff548d",
   "metadata": {
    "language": "sql",
    "name": "Create_alerting_framework_prerequisites"
   },
   "outputs": [],
   "source": "--Create Notification Integration \nCREATE NOTIFICATION INTEGRATION IF NOT EXISTS GENERAL_EMAIL_INT \nTYPE=EMAIL \nENABLED=TRUE ; \n\n--event log table  --for logging captured events ()\nCREATE TABLE  IF NOT EXISTS  alert_event_log\n(\n    event_id NUMBER AUTOINCREMENT START 1 INCREMENT 1,\n    event_timestamp TIMESTAMP_NTZ,\n    event_database varchar,\n    event_type STRING,\n    event_message STRING\n);\n\n--table to map event types to recipeints\nCREATE TABLE  IF NOT EXISTS  event_recipients\n(\n    event_type STRING,\n    notification_integration STRING,\n    recipients_email STRING,\n    frequency string\n    \n);\n\n--create table for logging sent emails\ncreate TABLE  IF NOT EXISTS  ALERT_EMAIL_LOG (\n    alert_email_id VARCHAR(60),\n\tEMAIL_SUBJECT VARCHAR(16777216),\n\tNOTIFICATION_INTEGRATION VARCHAR(16777216),\n\tRECIPIENTS_EMAIL VARCHAR(16777216),\n\tEMAIL_EVENTS ARRAY,\n    query_id varchar(60),\n    error_code  int,\n    error_message varchar(16777216),\n    sent_time   timestamp default current_timestamp()\n);",
   "execution_count": null
  },
  {
   "cell_type": "markdown",
   "id": "86f2008f-c0dc-40f6-b32e-e0cb749b4074",
   "metadata": {
    "name": "Alerts_to_log_events",
    "collapsed": false
   },
   "source": "## Create Alerts that Log Events\n\n- TC_CRITICAL_FINDINGS_ALERT\n- ELEVATED_PRIVILEGES_ALERT\n- ACCOUNT_PARAMETERS_ALERT\n"
  },
  {
   "cell_type": "code",
   "id": "14e5fb1c-ff3e-461c-a3b7-f142c42f516a",
   "metadata": {
    "language": "sql",
    "name": "Create_alerts_to_log_events"
   },
   "outputs": [],
   "source": "--alert FOR CRITICAL TRUST CENTER FINDINGS\nCREATE OR REPLACE ALERT TC_CRITICAL_FINDINGS_ALERT\n  WAREHOUSE = $WH_NAME\n  SCHEDULE = '1440 MINUTE'   \n  IF (EXISTS (\n        SELECT ACCOUNT_DATABASE,\n                SEVERITY, SCANNER_ID,\n                SCANNER_SHORT_DESCRIPTION, \n                CREATED_ON::DATE AS FINDING_DATE, \n                F.VALUE:entity_object_type::VARCHAR AS ENTITY_OBJECT_TYPE,\n                F.VALUE:entity_id::VARCHAR AS ENTITY_ID,\n                F.VALUE:entity_name::VARCHAR AS ENTITY_NAME,\n                IMPACT, \n                SUGGESTED_ACTION,\n                AT_RISK_ENTITIES,\n                RANK() OVER (PARTITION BY ACCOUNT_DATABASE,SCANNER_ID ORDER BY FINDING_DATE DESC) AS DATE_RANK\n            FROM\n              FINDINGS,\n              LATERAL FLATTEN(INPUT => AT_RISK_ENTITIES) AS F\n            QUALIFY DATE_RANK = 1\n           AND SEVERITY = 'CRITICAL'\n    )\n  )\n  THEN \n  INSERT INTO alert_event_log\n    (event_timestamp,event_database, event_type,event_message)  \nWITH CRITICAL_FINDINGS AS (\n SELECT ACCOUNT_DATABASE,\n                SEVERITY, SCANNER_ID,\n                SCANNER_SHORT_DESCRIPTION, \n                CREATED_ON::DATE AS FINDING_DATE, \n                F.VALUE:entity_object_type::VARCHAR AS ENTITY_OBJECT_TYPE,\n                F.VALUE:entity_id::VARCHAR AS ENTITY_ID,\n                F.VALUE:entity_name::VARCHAR AS ENTITY_NAME,\n                IMPACT, \n                SUGGESTED_ACTION,\n                AT_RISK_ENTITIES,\n                RANK() OVER (PARTITION BY ACCOUNT_DATABASE,SCANNER_ID ORDER BY FINDING_DATE DESC) AS DATE_RANK\n            FROM\n              FINDINGS,\n              LATERAL FLATTEN(INPUT => AT_RISK_ENTITIES) AS F\n            QUALIFY DATE_RANK = 1\n           AND SEVERITY = 'CRITICAL'\n)\n  SELECT \n    SNOWFLAKE.ALERT.SCHEDULED_TIME(), ACCOUNT_DATABASE,\n    'TC_CRITICAL_FINDINGS_ALERT',\n    ACCOUNT_DATABASE || ': Critical finding on '|| ENTITY_OBJECT_TYPE ||': ' || ENTITY_NAME || ': '||SCANNER_SHORT_DESCRIPTION,\nFROM\n  CRITICAL_FINDINGS;\n\n--alert FOR ELEVATED PRIVILEGES\nCREATE OR REPLACE ALERT ELEVATED_PRIVILEGES_ALERT\n  WAREHOUSE = $WH_NAME\n  SCHEDULE = '1440 MINUTE'   \n  IF (EXISTS (SELECT 1\n        FROM ORG_MONITORING_UTILITIES.CENTRALIZED_DATA.ELEVATED_ROLE_USERS\n        WHERE  CREATED_ON > \n                COALESCE(DATEADD(DD,-1,(SNOWFLAKE.ALERT.LAST_SUCCESSFUL_SCHEDULED_TIME())),\n            '2025/01/01'::TIMESTAMP_NTZ)\n  ))\n  THEN \n        INSERT INTO alert_event_log\n            (event_timestamp,event_database, event_type,event_message)  \n        SELECT SNOWFLAKE.ALERT.SCHEDULED_TIME(), ACCOUNT_DATABASE,'ELEVATED_PRIVILEGES_ALERT',ACCOUNT_DATABASE||': '|| user_name  ||' was granted the '||\n        case when elevated_role is null then 'elevated privilege ' else 'elevated role ' end||\n        coalesce(elevated_role, elevated_privilege)||' via this path: '||grant_path||'.'\n        FROM ORG_MONITORING_UTILITIES.CENTRALIZED_DATA.ELEVATED_ROLE_USERS\n        WHERE  CREATED_ON > \n                COALESCE(DATEADD(DD,-1,(SNOWFLAKE.ALERT.LAST_SUCCESSFUL_SCHEDULED_TIME())),\n            '2025/01/01'::TIMESTAMP_NTZ)\n;\n\n\n--alert FOR ACCOUNT PARAMETERS\nCREATE OR REPLACE ALERT ACCOUNT_PARAMETERS_ALERT\n  WAREHOUSE = $WH_NAME\n  SCHEDULE = '1440 MINUTE'   \n  IF (EXISTS (SELECT 1\n        FROM  ORG_MONITORING_UTILITIES.CENTRALIZED_DATA.ACCOUNT_PARAMETERS\n        WHERE KEY IN \n        ('REQUIRE_STORAGE_INTEGRATION_FOR_STAGE_CREATION',-- True\n        'REQUIRE_STORAGE_INTEGRATION_FOR_STAGE_OPERATION', -- True\n        'PREVENT_UNLOAD_TO_INLINE_URL')\n        AND VALUE ilike 'false'\n        AND  COLLECTION_DATE > \n               COALESCE(DATEADD(DD,-1,(SNOWFLAKE.ALERT.LAST_SUCCESSFUL_SCHEDULED_TIME())),\n               '2025/01/01'::TIMESTAMP_NTZ)\n        UNION ALL\n        SELECT 1\n        FROM  ORG_MONITORING_UTILITIES.CENTRALIZED_DATA.ACCOUNT_PARAMETERS\n        WHERE KEY IN \n        ('PRE_SIGNED_URL')\n        AND VALUE ilike 'true'\n        AND  COLLECTION_DATE > \n               COALESCE(DATEADD(DD,-1,(SNOWFLAKE.ALERT.LAST_SUCCESSFUL_SCHEDULED_TIME())),\n               '2025/01/01'::TIMESTAMP_NTZ)\n          ))\n  THEN \n        INSERT INTO alert_event_log\n            (event_timestamp,event_database, event_type,event_message)  \n        SELECT \n            SNOWFLAKE.ALERT.SCHEDULED_TIME(), \n            ACCOUNT_DATABASE, 'ACCOUNT_PARAMETERS_ALERT',ACCOUNT_DATABASE||' account parameter '|| KEY ||' set to ' || value ||'.'\n        FROM  ORG_MONITORING_UTILITIES.CENTRALIZED_DATA.ACCOUNT_PARAMETERS\n        WHERE KEY IN \n        ('REQUIRE_STORAGE_INTEGRATION_FOR_STAGE_CREATION',-- True\n        'REQUIRE_STORAGE_INTEGRATION_FOR_STAGE_OPERATION', -- True\n        'PREVENT_UNLOAD_TO_INLINE_URL')\n        AND VALUE ilike 'false'\n        AND  COLLECTION_DATE > \n               COALESCE(DATEADD(DD,-1,(SNOWFLAKE.ALERT.LAST_SUCCESSFUL_SCHEDULED_TIME())),\n               '2025/01/01'::TIMESTAMP_NTZ)\n        UNION ALL\n        SELECT\n            SNOWFLAKE.ALERT.SCHEDULED_TIME(), \n            ACCOUNT_DATABASE,  'ACCOUNT_PARAMETERS_ALERT', ACCOUNT_DATABASE||' account parameter '|| KEY ||' set to ' || value ||'.'\n        FROM  ORG_MONITORING_UTILITIES.CENTRALIZED_DATA.ACCOUNT_PARAMETERS\n        WHERE KEY IN \n        ('PRE_SIGNED_URL')\n        AND VALUE ilike 'true'\n        AND  COLLECTION_DATE > \n               COALESCE(DATEADD(DD,-1,(SNOWFLAKE.ALERT.LAST_SUCCESSFUL_SCHEDULED_TIME())),\n               '2025/01/01'::TIMESTAMP_NTZ)\n;\n\n",
   "execution_count": null
  },
  {
   "cell_type": "markdown",
   "id": "1f07c3b9-154d-422b-94ff-31aa5a63668b",
   "metadata": {
    "name": "Alerts_that_send_emails",
    "collapsed": false
   },
   "source": "## Create Alerts the Send Emails of logged events\n\n- alert_email_events_hourly\n- alert_email_events_daily"
  },
  {
   "cell_type": "code",
   "id": "2eb366e8-6828-4278-8bf4-12919146d2b3",
   "metadata": {
    "language": "sql",
    "name": "create_alerts_that_send_emails_hourly"
   },
   "outputs": [],
   "source": "--create alert to send emails hourly\nCREATE OR REPLACE ALERT alert_email_events_hourly\n  WAREHOUSE = $WH_NAME\n  SCHEDULE = '60 minute'  \n  IF (EXISTS ( \n        SELECT *\n        FROM alert_event_log        \n        WHERE event_timestamp BETWEEN IFNULL(SNOWFLAKE.ALERT.LAST_SUCCESSFUL_SCHEDULED_TIME(),'1970-01-01'::TIMESTAMP_NTZ)\n        AND SNOWFLAKE.ALERT.SCHEDULED_TIME()\n      )\n  )\n  THEN \n    \n    DECLARE  \n      table_cursor CURSOR FOR\n           WITH cte_event_recipients\n              (event_type,\n               notification_integration,\n               recipients_email) \n            AS\n            (\n                SELECT\n                    event_type,\n                    notification_integration,\n                    LISTAGG(recipients_email,',')\n                FROM event_recipients \n                where frequency ilike 'hourly'\n                GROUP BY event_type,notification_integration\n            )        \n            ,cte_events(event_type,event_message, event_id) AS \n            (\n                SELECT                        \n                    event_type,\n                     event_message,\n                     array_agg(event_id)\n                FROM alert_event_log\n                WHERE event_timestamp>IFNULL(SNOWFLAKE.ALERT.LAST_SUCCESSFUL_SCHEDULED_TIME(),'1970-01-01'::TIMESTAMP_NTZ)\n                group by 1,2\n                ORDER BY EVENT_MESSAGE\n            )\n            SELECT \n                er.event_type email_subject,\n                er.notification_integration,\n                er.recipients_email,\n                max(UUID_STRING()) as alert_email_id,\n                LISTAGG(e.event_message||'\\n') email_body,\n                array_agg(event_id) email_events\n            FROM cte_events e\n            INNER JOIN cte_event_recipients er \n            ON e.event_type=er.event_type\n            GROUP BY 1,2,3\n            ;\n        email_subject varchar ;\n        notification_integration varchar ;\n        recipients_email varchar;\n        alert_email_id varchar; \n        email_body varchar;\n        email_events array;\n        res resultset DEFAULT (SELECT LAST_QUERY_ID());\n        c1 CURSOR FOR res;\n        batch_timestamp DEFAULT current_timestamp();\n        \n    BEGIN  -- loop through tables and extract semantic categories \n        \n     for var in table_cursor DO\n     begin \n        email_subject := var.email_subject ;\n        notification_integration := var.notification_integration ;\n        recipients_email := var.recipients_email;\n        email_events := var.email_events;\n        alert_email_id := var.alert_email_id; \n        email_body := var.email_body;\n        let sql_stmt := 'CALL SYSTEM$SEND_EMAIL(''' ||var.notification_integration || ''','''||var.recipients_email|| ''',''' || var.email_subject|| ''',''' ||var.email_body|| ''')';\n        \n        EXECUTE IMMEDIATE sql_stmt; \n        \n         INSERT INTO ALERT_EMAIL_LOG (\n            alert_email_id,\n        \temail_subject,\n        \tnotification_integration,\n        \trecipients_email,\n        \temail_events,\n            query_id\n            )\n        select :alert_email_id, :email_subject, :notification_integration, :recipients_email, :email_events,  LAST_QUERY_ID();      \n           \n        EXCEPTION  -- log errors \n          WHEN statement_error THEN\n          LET errm := SQLERRM;\n          LET errcode := SQLCODE;\n            \n             INSERT INTO ALERT_EMAIL_LOG (\n                alert_email_id,\n                email_subject,\n                notification_integration,\n                recipients_email,\n                email_events,\n                query_id,\n                error_code,\n                error_message\n                )\n                select :alert_email_id, :email_subject, :notification_integration, :recipients_email, :email_events, LAST_QUERY_ID(), :errcode, :errm;   \n        end;\n     END FOR;\n                                  \n    END;;;\n",
   "execution_count": null
  },
  {
   "cell_type": "code",
   "id": "d6428e3f-f87d-4ff7-9535-2e0ae6660e46",
   "metadata": {
    "language": "sql",
    "name": "create_alerts_that_send_emails_daily"
   },
   "outputs": [],
   "source": "\n--create alert to send emails daily\nCREATE OR REPLACE ALERT alert_email_events_daily\n  WAREHOUSE = $WH_NAME\n  SCHEDULE = '1440 minute'  \n  IF (EXISTS ( \n        SELECT *\n        FROM alert_event_log        \n        WHERE event_timestamp BETWEEN IFNULL(SNOWFLAKE.ALERT.LAST_SUCCESSFUL_SCHEDULED_TIME(),'1970-01-01'::TIMESTAMP_NTZ)\n        AND SNOWFLAKE.ALERT.SCHEDULED_TIME()\n      )\n  )\n  THEN \n    \n    DECLARE  \n      table_cursor CURSOR FOR\n           WITH cte_event_recipients\n              (event_type,\n               notification_integration,\n               recipients_email) \n            AS\n            (\n                SELECT\n                    event_type,\n                    notification_integration,\n                    LISTAGG(recipients_email,',')\n                FROM event_recipients \n                where frequency ilike 'daily'\n                GROUP BY event_type,notification_integration\n            )        \n            ,cte_events(event_type,event_message, event_id) AS \n            (\n                SELECT                        \n                    event_type,\n                     event_message,\n                     array_agg(event_id)\n                FROM alert_event_log\n                WHERE event_timestamp>IFNULL(SNOWFLAKE.ALERT.LAST_SUCCESSFUL_SCHEDULED_TIME(),'1970-01-01'::TIMESTAMP_NTZ)\n                group by 1,2\n                ORDER BY EVENT_MESSAGE\n            )\n            SELECT \n                er.event_type email_subject,\n                er.notification_integration,\n                er.recipients_email,\n                max(UUID_STRING()) as alert_email_id,\n                LISTAGG(e.event_message||'\\n') email_body,\n                array_agg(event_id) email_events\n            FROM cte_events e\n            INNER JOIN cte_event_recipients er \n            ON e.event_type=er.event_type\n            GROUP BY 1,2,3\n            ;\n        email_subject varchar ;\n        notification_integration varchar ;\n        recipients_email varchar;\n        alert_email_id varchar; \n        email_body varchar;\n        email_events array;\n        res resultset DEFAULT (SELECT LAST_QUERY_ID());\n        c1 CURSOR FOR res;\n        batch_timestamp DEFAULT current_timestamp();\n        \n    BEGIN  -- loop through tables and extract semantic categories \n        \n     for var in table_cursor DO\n     begin \n        email_subject := var.email_subject ;\n        notification_integration := var.notification_integration ;\n        recipients_email := var.recipients_email;\n        email_events := var.email_events;\n        alert_email_id := var.alert_email_id; \n        email_body := var.email_body;\n        let sql_stmt := 'CALL SYSTEM$SEND_EMAIL(''' ||var.notification_integration || ''','''||var.recipients_email|| ''',''' || var.email_subject|| ''',''' ||var.email_body|| ''')';\n        \n        EXECUTE IMMEDIATE sql_stmt; \n        \n         INSERT INTO ALERT_EMAIL_LOG (\n            alert_email_id,\n        \temail_subject,\n        \tnotification_integration,\n        \trecipients_email,\n        \temail_events,\n            query_id\n            )\n        select :alert_email_id, :email_subject, :notification_integration, :recipients_email, :email_events,  LAST_QUERY_ID();      \n           \n        EXCEPTION  -- log errors \n          WHEN statement_error THEN\n          LET errm := SQLERRM;\n          LET errcode := SQLCODE;\n            \n             INSERT INTO ALERT_EMAIL_LOG (\n                alert_email_id,\n                email_subject,\n                notification_integration,\n                recipients_email,\n                email_events,\n                query_id,\n                error_code,\n                error_message\n                )\n                select :alert_email_id, :email_subject, :notification_integration, :recipients_email, :email_events, LAST_QUERY_ID(), :errcode, :errm;   \n        end;\n     END FOR;\n                                  \n    END;\n    ",
   "execution_count": null
  },
  {
   "cell_type": "markdown",
   "id": "10b0d340-97a4-445b-9716-51e9b3529f40",
   "metadata": {
    "name": "Alert_for_failed_alerts",
    "collapsed": false
   },
   "source": "## Create Alert for Failed Alerts"
  },
  {
   "cell_type": "code",
   "id": "ba374878-b144-410f-9f87-e2f00ec17fcc",
   "metadata": {
    "language": "sql",
    "name": "Create_alert_for_failed_alert"
   },
   "outputs": [],
   "source": "--Create alert for alert failures that have occured since the last successful execution of this alert\n--https://docs.snowflake.com/en/user-guide/alerts?utm_source=legacy&utm_medium=serp&utm_term=SNOWFLAKE.ALERT.LAST_SUCCESSFUL_SCHEDULED_TIME%28%29\nCREATE OR REPLACE ALERT alert_failures\n  WAREHOUSE = $WH_NAME\n  SCHEDULE = '1440 MINUTE'\n  IF (EXISTS (  --Condition\n         SELECT 1\n            FROM \n                TABLE(INFORMATION_SCHEMA.ALERT_HISTORY(RESULT_LIMIT => 10000) )\n                WHERE state IN ('CONDITION_FAILED','ACTION_FAILED','FAILED')\n                AND SCHEDULED_TIME > SNOWFLAKE.ALERT.LAST_SUCCESSFUL_SCHEDULED_TIME()  --since this alert was last sucessfully executed\n            LIMIT 1\n    )\n  )\n  THEN --action - email notification\n      CALL SYSTEM$SEND_EMAIL(\n            '<integration_name>',  --notification integrations\n            '<email.address1@mass.gov>,<email.address2@mass.gov>',  --recipient list (comma separated for multiple recipients)\n            'Alert Failures',  --email subject\n            (WITH CTE AS\n                (SELECT 'ALERT: ' || ifnull(NAME,'') ||\n                    ' - DB: ' || ifnull(DATABASE_NAME,'') || ' - SCH: ' || ifnull(SCHEMA_NAME,'') || \n                    ' - STATE: ' || ifnull(STATE,'') || ' - ERROR: ' || SQL_ERROR_MESSAGE  as mail_text\n                    FROM \n                    TABLE(INFORMATION_SCHEMA.ALERT_HISTORY(RESULT_LIMIT => 10000)) \n                    WHERE state IN ('CONDITION_FAILED','ACTION_FAILED','FAILED')\n                    AND SCHEDULED_TIME > SNOWFLAKE.ALERT.LAST_SUCCESSFUL_SCHEDULED_TIME() --since this alert was last sucessfully executed\n                )\n                SELECT listagg(mail_text||'\\n') FROM CTE\n            ));\n",
   "execution_count": null
  },
  {
   "cell_type": "markdown",
   "id": "8dfa0c25-7f81-4909-b3f4-a114f8660c21",
   "metadata": {
    "name": "Designate_alert_recipients",
    "collapsed": false
   },
   "source": "## Popultate Event Recipients Table\n\n## Update email recipient list in lines 3-5\n"
  },
  {
   "cell_type": "code",
   "id": "577edd8f-04f3-4db1-ab7a-5deec14d7043",
   "metadata": {
    "language": "sql",
    "name": "Populate_event_recipients"
   },
   "outputs": [],
   "source": "--example\nINSERT INTO event_recipients VALUES \n('TC_CRITICAL_FINDINGS_ALERT','GENERAL_EMAIL_INT','<email_address1, email_address2, email_address ...>', 'daily'),\n('ELEVATED_PRIVILEGES_ALERT','GENERAL_EMAIL_INT','<email_address1, email_address2, email_address ...>', 'daily');\n('ACCOUNT_PARAMETERS','GENERAL_EMAIL_INT','<email_address1, email_address2, email_address ...>', 'daily');",
   "execution_count": null
  },
  {
   "cell_type": "markdown",
   "id": "4c7e9225-c1ce-46f7-9bbc-5ca97f5b0fa8",
   "metadata": {
    "name": "Verify_alert_creation_and_resume",
    "collapsed": false
   },
   "source": "## Verify Alert Creation & Resume Alerts"
  },
  {
   "cell_type": "code",
   "id": "67c51723-8c96-4127-9d4a-bbd1e3a1c587",
   "metadata": {
    "language": "sql",
    "name": "validate_alerts"
   },
   "outputs": [],
   "source": "SHOW ALERTS IN SCHEMA;",
   "execution_count": null
  },
  {
   "cell_type": "code",
   "id": "f83ada14-61df-4f00-90ed-803e6df663f5",
   "metadata": {
    "language": "sql",
    "name": "Resume_alerts"
   },
   "outputs": [],
   "source": "ALTER ALERT ACCOUNT_PARAMETERS_ALERT RESUME;\nALTER ALERT ALERT_EMAIL_EVENTS_DAILY RESUME;\nALTER ALERT ALERT_EMAIL_EVENTS_HOURLY RESUME;\nALTER ALERT ALERT_FAILURES RESUME;\nALTER ALERT ELEVATED_PRIVILEGES_ALERT RESUME;\nALTER ALERT TC_CRITICAL_FINDINGS_ALERT RESUME;\n",
   "execution_count": null
  },
  {
   "cell_type": "code",
   "id": "fd71c40a-dac8-440b-b58b-42d63132f17c",
   "metadata": {
    "language": "sql",
    "name": "cell1"
   },
   "outputs": [],
   "source": "-- ALTER ALERT ACCOUNT_PARAMETERS_ALERT SUSPEND;\n-- ALTER ALERT ALERT_EMAIL_EVENTS_DAILY SUSPEND;\n-- ALTER ALERT ALERT_EMAIL_EVENTS_HOURLY SUSPEND;\n-- ALTER ALERT ALERT_FAILURES SUSPEND;\n-- ALTER ALERT ELEVATED_PRIVILEGES_ALERT SUSPEND;\n-- ALTER ALERT TC_CRITICAL_FINDINGS_ALERT SUSPEND;\n",
   "execution_count": null
  },
  {
   "cell_type": "markdown",
   "id": "1dc48744-4674-4258-91a6-e6136b4ba650",
   "metadata": {
    "name": "cell2",
    "collapsed": false
   },
   "source": "# Sample Report Queries"
  },
  {
   "cell_type": "code",
   "id": "ff917340-5d4d-4213-8883-82db7fddfd1d",
   "metadata": {
    "language": "sql",
    "name": "Sample_report_queries"
   },
   "outputs": [],
   "source": "-----REPORT QUERIES\n\n--FINDINGS SEVERITY SUMMARY\nWITH RECENT_FINDINGS AS (select\n        ACCOUNT_DATABASE,\n            SCANNER_PACKAGE_NAME,\n            CREATED_ON::DATE AS FINDING_DATE, \n            SEVERITY, \n            SCANNER_ID,\n            RANK() OVER (PARTITION BY SCANNER_ID ORDER BY FINDING_DATE DESC) AS DATE_RANK, TOTAL_AT_RISK_COUNT, EVENT_ID, AT_RISK_ENTITIES\n        FROM FINDINGS\n        QUALIFY DATE_RANK = 1 AND TOTAL_AT_RISK_COUNT >0\n        ORDER BY SCANNER_ID, EVENT_ID)\n    SELECT \n        ACCOUNT_DATABASE,\n        SCANNER_PACKAGE_NAME,\n        FINDING_DATE,\n        SEVERITY,  \n        COUNT(DISTINCT SCANNER_ID) AS SEVERITY_COUNT\n    FROM RECENT_FINDINGS\n    GROUP BY ALL\n    ORDER BY SCANNER_PACKAGE_NAME,\n        CASE WHEN SEVERITY = 'CRITICAL' THEN 1\n                    WHEN SEVERITY = 'HIGH' THEN 2\n                    WHEN SEVERITY = 'MEDIUM' THEN 3\n                    WHEN SEVERITY = 'LOW' THEN 4 END;\n                    \n--LATEST  FINDINGS DETAILS\nSELECT ACCOUNT_DATABASE,\n        SEVERITY, SCANNER_ID,\n        SCANNER_SHORT_DESCRIPTION, \n        CREATED_ON::DATE AS FINDING_DATE, \n        F.VALUE:entity_object_type::VARCHAR AS ENTITY_OBJECT_TYPE,\n        F.VALUE:entity_id::VARCHAR AS ENTITY_ID,\n        F.VALUE:entity_name::VARCHAR AS ENTITY_NAME,\n        IMPACT, \n        SUGGESTED_ACTION,\n        AT_RISK_ENTITIES,\n        RANK() OVER (PARTITION BY ACCOUNT_DATABASE,SCANNER_ID ORDER BY FINDING_DATE DESC) AS DATE_RANK\n    FROM\n      FINDINGS,\n      LATERAL FLATTEN(INPUT => AT_RISK_ENTITIES) AS F\n    QUALIFY DATE_RANK = 1\n    ORDER BY SCANNER_PACKAGE_NAME,\n        CASE WHEN SEVERITY = 'CRITICAL' THEN 1\n                    WHEN SEVERITY = 'HIGH' THEN 2\n                    WHEN SEVERITY = 'MEDIUM' THEN 3\n                    WHEN SEVERITY = 'LOW' THEN 4 END;\n\n\n--RISK COUNT BY FINDING\nWITH FINDINGS AS (\n        SELECT CURRENT_ACCOUNT() AS ACCOUNT, \n            CURRENT_ACCOUNT_NAME() AS ACCOUNT_NAME,\n            SCANNER_PACKAGE_NAME,\n            CREATED_ON::DATE AS FINDING_DATE,\n            SCANNER_SHORT_DESCRIPTION,\n            SEVERITY, \n            TOTAL_AT_RISK_COUNT,\n            RANK() OVER (PARTITION BY SCANNER_ID ORDER BY FINDING_DATE DESC) AS DATE_RANK, \n        FROM SNOWFLAKE.TRUST_CENTER.FINDINGS\n        QUALIFY DATE_RANK = 1 AND TOTAL_AT_RISK_COUNT >0)\n    SELECT ACCOUNT, \n        ACCOUNT_NAME,\n        SCANNER_PACKAGE_NAME,\n        FINDING_DATE,\n        SCANNER_SHORT_DESCRIPTION,\n        SEVERITY,   \n        SUM(TOTAL_AT_RISK_COUNT) AS TOTAL_AT_RISK_COUNT\n    FROM FINDINGS\n    GROUP BY ALL\n    ORDER BY SCANNER_PACKAGE_NAME,\n        CASE WHEN SEVERITY = 'CRITICAL' THEN 1\n                    WHEN SEVERITY = 'HIGH' THEN 2\n                    WHEN SEVERITY = 'MEDIUM' THEN 3\n                    WHEN SEVERITY = 'LOW' THEN 4 END;\n\n--USERS WITH ELEVATED ROLES AND PRIVILEGES\nSELECT * FROM ORG_MONITORING_UTILITIES.CENTRALIZED_DATA.ELEVATED_ROLE_USERS; \n\n--ACCOUNT PARAMETER VALUES\nSELECT * FROM  ORG_MONITORING_UTILITIES.CENTRALIZED_DATA.ACCOUNT_PARAMETERS\nWHERE KEY IN \n('REQUIRE_STORAGE_INTEGRATION_FOR_STAGE_CREATION',\n'REQUIRE_STORAGE_INTEGRATION_FOR_STAGE_OPERATION', \n'PREVENT_UNLOAD_TO_INLINE_URL','PRE_SIGNED_URL');\n\n",
   "execution_count": null
  }
 ]
}